{
 "cells": [
  {
   "cell_type": "markdown",
   "metadata": {},
   "source": [
    "# 15688 Tutorial Introduction to Pyspark\n"
   ]
  },
  {
   "cell_type": "markdown",
   "metadata": {},
   "source": [
    "## Introduction\n",
    "This tutorial will introduce you the basic concepts of pyspark as well as useful examples using python code. I am sure that you have heard the concept of big data. The complexity and volume of new data generate the requirement of new technology. The ability of dealing with big data is essential to each company and industry. Pyspark is one of the most common technology in this area so in this tutorial will give you a pyspark 101. The package used here is pyspark."
   ]
  },
  {
   "cell_type": "markdown",
   "metadata": {},
   "source": [
    "## Tutorial Agenda\n",
    "\n",
    "- Apache Spark Architecture\n",
    "- The Key Data Object - RDD\n",
    "- Operations on RDD\n",
    "- The Key Data Object - DataFrame\n",
    "- PySpark SQL\n",
    "- Simple Linear Regression with MLlib"
   ]
  },
  {
   "cell_type": "markdown",
   "metadata": {},
   "source": [
    "## Apache Spark Architecture\n",
    "\n",
    "Spark achieves high-speed data processing thourgh distributed computation. The high-level architecture is driver-worker, a node controlling over other processes(workers). The driver organizes what computational work should been done on which worker. The computational job is distributed(map) to workers and the partial results are combined(reduce) to get final output. In this tutorial we will use pyspark, a Spark library written in Python providing easy-to-write spark programming.\n",
    "\n",
    "Frist of all, spark creates SparkContext object, it tells the computer where to find a cluster( a driver and its worker brothers)"
   ]
  },
  {
   "cell_type": "code",
   "execution_count": 4,
   "metadata": {},
   "outputs": [
    {
     "data": {
      "text/html": [
       "\n",
       "        <div>\n",
       "            <p><b>SparkContext</b></p>\n",
       "\n",
       "            <p><a href=\"http://r001.ib.bridges2.psc.edu:4040\">Spark UI</a></p>\n",
       "\n",
       "            <dl>\n",
       "              <dt>Version</dt>\n",
       "                <dd><code>v3.0.1</code></dd>\n",
       "              <dt>Master</dt>\n",
       "                <dd><code>local[*]</code></dd>\n",
       "              <dt>AppName</dt>\n",
       "                <dd><code>pyspark-shell</code></dd>\n",
       "            </dl>\n",
       "        </div>\n",
       "        "
      ],
      "text/plain": [
       "<SparkContext master=local[*] appName=pyspark-shell>"
      ]
     },
     "execution_count": 4,
     "metadata": {},
     "output_type": "execute_result"
    }
   ],
   "source": [
    "import sys\n",
    "sys.path.append(\"/opt/packages/spark/latest/python/lib/py4j-0.10.9-src.zip\")\n",
    "sys.path.append(\"/opt/packages/spark/latest/python/\")\n",
    "sys.path.append(\"/opt/packages/spark/latest/python/pyspark\")\n",
    "from pyspark import SparkConf, SparkContext\n",
    "sc = SparkContext()\n",
    "sc\n"
   ]
  },
  {
   "cell_type": "markdown",
   "metadata": {},
   "source": [
    "## The Key Data Object - RDD\n",
    "\n",
    "SparkContext can be used to create RDD(Resilient Distributed Dataset). RDD is a fundamental data structure of Spark. It is immutable, distributed and fault-tolerant. So once you create a RDD, you are not able to change it. RDD is divided into several partitions across a cluster. The number of partitions should be decided by programmer and is not changeable as well. If you forget to do this, the machine will decide it by itself according to abailable capacity. The more partitions, the better ability of parallelism. The thrid property of RDD is fault-tolerant. If one worker crushes, it simplily restart its process without effecting other workers. From other aspects, you can just imagine RDD as a list in python.\n",
    "\n",
    "You can create a RDD by two ways. The first one is to parallelizing Python collections, such as list.( See! RDD and list are similar.) Another way is to import from files. "
   ]
  },
  {
   "cell_type": "code",
   "execution_count": 2,
   "metadata": {},
   "outputs": [
    {
     "name": "stdout",
     "output_type": "stream",
     "text": [
      "number of partitions:32\n"
     ]
    }
   ],
   "source": [
    "# parallelizing\n",
    "data1 = ['I', 'like', 'practical', 'data', 'science','like','lot','a','good','good']\n",
    "rdd1 = sc.parallelize(data1, 4) # the number of partitions\n",
    "\n",
    "data2 = [1,2,3,4]\n",
    "rdd2 = sc.parallelize(data2) # do not decide number of partitions\n",
    "print(\"number of partitions:\"+str(rdd2.getNumPartitions()))"
   ]
  },
  {
   "cell_type": "markdown",
   "metadata": {},
   "source": [
    "## Opeartions on RDD\n",
    "\n",
    "There are two opeartions on RDD. Transformations and actions. An interesting thing is that transformations are lazy. They are not computed immediately until an action runs on it. Another useful method is cache. By caching data that may be reused you keep them in memory and reduce time of disk I/O.\n",
    "\n",
    "The basic tranformations include map(), filter(), distinct(), flatMap(). The input of these transformations is a function. Map returns a new rdd by passing each element into the function. Filter returns a new rdd with elements that return True through filter. Distinct returns distinct elements of original dataset. FlatMap is similar to map but the mapping is not restricted to one-to-one. Let's see some examples."
   ]
  },
  {
   "cell_type": "code",
   "execution_count": 3,
   "metadata": {},
   "outputs": [
    {
     "name": "stdout",
     "output_type": "stream",
     "text": [
      "['Is', 'likes', 'practicals', 'datas', 'sciences', 'likes', 'lots', 'as', 'goods', 'goods']\n"
     ]
    }
   ],
   "source": [
    "#map\n",
    "mapRDD = rdd1.map(lambda x: x+'s')\n",
    "print (mapRDD.collect())"
   ]
  },
  {
   "cell_type": "code",
   "execution_count": 4,
   "metadata": {},
   "outputs": [
    {
     "name": "stdout",
     "output_type": "stream",
     "text": [
      "[1, 2]\n"
     ]
    }
   ],
   "source": [
    "#filter\n",
    "print(rdd2.filter(lambda x: x <= 2).collect())"
   ]
  },
  {
   "cell_type": "code",
   "execution_count": 5,
   "metadata": {},
   "outputs": [
    {
     "name": "stdout",
     "output_type": "stream",
     "text": [
      "['like', 'good', 'lot', 'a', 'science', 'I', 'practical', 'data']\n"
     ]
    }
   ],
   "source": [
    "#distinct\n",
    "print(rdd1.distinct().collect())"
   ]
  },
  {
   "cell_type": "markdown",
   "metadata": {},
   "source": [
    "Here we can see the differences between map and flatmap."
   ]
  },
  {
   "cell_type": "code",
   "execution_count": 7,
   "metadata": {},
   "outputs": [
    {
     "name": "stdout",
     "output_type": "stream",
     "text": [
      "[[1, 2], [2, 3], [3, 4], [4, 5]]\n",
      "[1, 2, 2, 3, 3, 4, 4, 5]\n"
     ]
    }
   ],
   "source": [
    "#FlatMap\n",
    "\n",
    "print(rdd2.map(lambda x: [x,x+1]).collect())\n",
    "print(rdd2.flatMap(lambda x: [x,x+1]).collect())"
   ]
  },
  {
   "cell_type": "markdown",
   "metadata": {},
   "source": [
    "You may be confused by the action \"collect()\". Remember? We mentioned before that transformations are lazy. They are not executed until an action runs on them. Here collect is an action, it just gives all the elements in a RDD. Other common actions are reduce(function), take(n), and takeOrdered(n,key = function). Reduce function takes two parameters and gives one, it is widely used to implement basic addment. Take returns the first n elements. Takeorderd is similar and it allows you to create your own sort key(ascending). You can change it into descending with a small trick."
   ]
  },
  {
   "cell_type": "code",
   "execution_count": 8,
   "metadata": {},
   "outputs": [
    {
     "name": "stdout",
     "output_type": "stream",
     "text": [
      "10\n"
     ]
    }
   ],
   "source": [
    "#reduce\n",
    "print(rdd2.reduce(lambda x,y:x+y))"
   ]
  },
  {
   "cell_type": "code",
   "execution_count": 12,
   "metadata": {},
   "outputs": [
    {
     "name": "stdout",
     "output_type": "stream",
     "text": [
      "[1, 2]\n",
      "[4, 3]\n"
     ]
    }
   ],
   "source": [
    "#take\n",
    "print(rdd2.take(2))\n",
    "\n",
    "#takeOrderd\n",
    "print(rdd2.takeOrdered(2,lambda x: -1*x)) # a trick to descend"
   ]
  },
  {
   "cell_type": "markdown",
   "metadata": {},
   "source": [
    "In fact pyspark provides some methods that allow key-value pair transforamtions. Like dictionary in python. They are reduceByKey(),sortByKey and groupByKey(). ReduceByKey is just like reduce, only this time values are combined by their keys. SortByKey() and groupByKey() works the same way."
   ]
  },
  {
   "cell_type": "code",
   "execution_count": 13,
   "metadata": {},
   "outputs": [
    {
     "name": "stdout",
     "output_type": "stream",
     "text": [
      "[(1, 2), (3, 12), (5, 13)]\n",
      "[(1, 2), (3, 4), (3, 8), (5, 6), (5, 7)]\n",
      "[(1, <pyspark.resultiterable.ResultIterable object at 0x1534c05494f0>), (3, <pyspark.resultiterable.ResultIterable object at 0x1534c0549490>), (5, <pyspark.resultiterable.ResultIterable object at 0x1534c05496a0>)]\n"
     ]
    }
   ],
   "source": [
    "#create rdd with keys\n",
    "data3 = [(1,2),(3,4),(5,6),(5,7),(3,8)]\n",
    "keyRDD = sc.parallelize(data3)\n",
    "#reducebykey\n",
    "print(keyRDD.reduceByKey(lambda x,y : x+y).collect())\n",
    "#sortbykey\n",
    "print(keyRDD.sortByKey().collect())\n",
    "#groupbykey\n",
    "print(keyRDD.groupByKey().collect())"
   ]
  },
  {
   "cell_type": "markdown",
   "metadata": {},
   "source": [
    "Now we have a command of all useful functions. Let's combine them together and do something interesting. A famous example of distributed computation is word frequency count. In the comments below I give you the code to create RDD from local files. Since I cannot submit local files in this tutorial, I will create the RDD by hand. The text is copied from our course website.\n",
    "\n",
    "What are the steps to do word count? First I will separate the original sentence into words and remove spaces. Next I will map each word to a tuple(word,1) and use reducebykey."
   ]
  },
  {
   "cell_type": "code",
   "execution_count": 18,
   "metadata": {},
   "outputs": [],
   "source": [
    "#file = test.txt'\n",
    "#rdd = sc.textFile(file)\n",
    "\n",
    "data4 = ['With data science, as with most disciplines, the best way to learn a particular topic is to teach it to others. The tutorial assignment of this course is meant to give you the chance to create a short tutorial on something related to data science. You can describe how to use a particular algorithm, library, methodology, or data set. Your tutorial should provide an introduction to this topic suitable for the level of other students taking this course. Ultimately, you will be graded by the course instructor and other students taking the course']\n",
    "rdd4 = sc.parallelize(data4)"
   ]
  },
  {
   "cell_type": "code",
   "execution_count": 28,
   "metadata": {},
   "outputs": [],
   "source": [
    "rdd4 = rdd4.flatMap(lambda x: x.split(' ')).filter(lambda x: x!='').filter(lambda x: x!=',')\n",
    "wordcount = rdd4.map(lambda x:(x,1)).reduceByKey(lambda x,y:x+y).collect()"
   ]
  },
  {
   "cell_type": "code",
   "execution_count": 29,
   "metadata": {},
   "outputs": [
    {
     "name": "stdout",
     "output_type": "stream",
     "text": [
      "something: 1\n",
      "instructor: 1\n",
      "create: 1\n",
      "by: 1\n",
      "this: 3\n",
      "course: 3\n",
      "level: 1\n",
      "students: 2\n",
      "algorithm,: 1\n",
      "methodology,: 1\n",
      "most: 1\n",
      "You: 1\n",
      "describe: 1\n",
      "set.: 1\n",
      "provide: 1\n",
      "science,: 1\n",
      "a: 3\n",
      "how: 1\n",
      "as: 1\n",
      "for: 1\n",
      "particular: 2\n",
      "give: 1\n",
      "short: 1\n",
      "library,: 1\n",
      "With: 1\n",
      "to: 8\n",
      "should: 1\n",
      "topic: 2\n",
      "is: 2\n",
      "with: 1\n",
      "teach: 1\n",
      "Ultimately,: 1\n",
      "other: 2\n",
      "assignment: 1\n",
      "you: 2\n",
      "use: 1\n",
      "course.: 1\n",
      "data: 3\n",
      "Your: 1\n",
      "the: 5\n",
      "be: 1\n",
      "way: 1\n",
      "suitable: 1\n",
      "on: 1\n",
      "can: 1\n",
      "taking: 2\n",
      "others.: 1\n",
      "of: 2\n",
      "an: 1\n",
      "introduction: 1\n",
      "learn: 1\n",
      "graded: 1\n",
      "it: 1\n",
      "tutorial: 3\n",
      "will: 1\n",
      "disciplines,: 1\n",
      "best: 1\n",
      "related: 1\n",
      "meant: 1\n",
      "and: 1\n",
      "The: 1\n",
      "chance: 1\n",
      "science.: 1\n",
      "or: 1\n"
     ]
    }
   ],
   "source": [
    "print ('\\n'.join(map(lambda x: '{0}: {1}'.format(x[0], x[1]), wordcount)))"
   ]
  },
  {
   "cell_type": "markdown",
   "metadata": {},
   "source": [
    "## The Key Data Object - DataFrame\n",
    "DataFrame is a distributed collection of data object. Its properties are very much like RDD. It's the distributed version of pandas dataframe or table in database.(But faster) DataFrames can be constructed from a wide sources such as structured data files, tables, databases, or existing RDDs. RDD is built by SparkContext and DataFrame is built by Spark Session.\n",
    "Actually DataFrame is built on top of RDD. Therefore it's a higher level of spark interface and less flexibility. The advantage is that it requires shorter codes. The opeations on DataFrame are similar to RDD, transformations and actions. They are pretty much like those in pandas. I will give you some examples here."
   ]
  },
  {
   "cell_type": "code",
   "execution_count": 42,
   "metadata": {},
   "outputs": [],
   "source": [
    "import pyspark\n",
    "from pyspark.sql import SparkSession\n",
    "\n",
    "ss = SparkSession.builder.appName('15688tutorial').getOrCreate()"
   ]
  },
  {
   "cell_type": "code",
   "execution_count": 44,
   "metadata": {},
   "outputs": [
    {
     "name": "stdout",
     "output_type": "stream",
     "text": [
      "+----+----------+------+------+\n",
      "|name|  birthday|gender|salary|\n",
      "+----+----------+------+------+\n",
      "|Mike|1997-04-01|     M|  3000|\n",
      "|Jack|2000-08-19|     M|  4000|\n",
      "| Amy|1978-09-05|     M|  4000|\n",
      "|Oick|1966-12-01|     F|  4000|\n",
      "|Lily|1989-11-17|     F|    -1|\n",
      "+----+----------+------+------+\n",
      "\n"
     ]
    }
   ],
   "source": [
    "data = [('Mike','1997-04-01','M',3000),\n",
    "  ('Jack','2000-08-19','M',4000),\n",
    "  ('Amy','1978-09-05','M',4000),\n",
    "  ('Oick','1966-12-01','F',4000),\n",
    "  ('Lily','1989-11-17','F',10000)\n",
    "]\n",
    "\n",
    "columns = [\"name\",\"birthday\",\"gender\",\"salary\"]\n",
    "df = ss.createDataFrame(data=data, schema = columns)\n",
    "df.show()"
   ]
  },
  {
   "cell_type": "code",
   "execution_count": 45,
   "metadata": {},
   "outputs": [
    {
     "name": "stdout",
     "output_type": "stream",
     "text": [
      "+------+-----------+\n",
      "|gender|sum(salary)|\n",
      "+------+-----------+\n",
      "|F     |3999       |\n",
      "|M     |11000      |\n",
      "+------+-----------+\n",
      "\n"
     ]
    }
   ],
   "source": [
    "# group by  and sum\n",
    "df.groupBy(\"gender\").sum(\"salary\").show(truncate=False)"
   ]
  },
  {
   "cell_type": "code",
   "execution_count": 59,
   "metadata": {},
   "outputs": [
    {
     "name": "stdout",
     "output_type": "stream",
     "text": [
      "+------+------------------+\n",
      "|gender|avg(salary)       |\n",
      "+------+------------------+\n",
      "|F     |1999.5            |\n",
      "|M     |3666.6666666666665|\n",
      "+------+------------------+\n",
      "\n"
     ]
    }
   ],
   "source": [
    "# group by and average\n",
    "df.groupBy(\"gender\").avg(\"salary\").show(truncate=False)"
   ]
  },
  {
   "cell_type": "markdown",
   "metadata": {},
   "source": [
    "## PySpark SQL\n",
    "We should all be familar with SQL. Pyspark SQL allows you to use SQL on Spark Dataframe. A temporary table is created by createOrReplaceTempView(). And any SQL script should be in sql()."
   ]
  },
  {
   "cell_type": "code",
   "execution_count": 64,
   "metadata": {},
   "outputs": [
    {
     "name": "stdout",
     "output_type": "stream",
     "text": [
      "root\n",
      " |-- name: string (nullable = true)\n",
      " |-- birthday: string (nullable = true)\n",
      " |-- gender: string (nullable = true)\n",
      " |-- salary: long (nullable = true)\n",
      "\n",
      "+----+----------+------+------+\n",
      "|name|  birthday|gender|salary|\n",
      "+----+----------+------+------+\n",
      "|Mike|1997-04-01|     M|  3000|\n",
      "|Jack|2000-08-19|     M|  4000|\n",
      "| Amy|1978-09-05|     M|  4000|\n",
      "|Oick|1966-12-01|     F|  4000|\n",
      "|Lily|1989-11-17|     F|    -1|\n",
      "+----+----------+------+------+\n",
      "\n"
     ]
    }
   ],
   "source": [
    "df.createOrReplaceTempView(\"table1\")\n",
    "ss.sql(\"SELECT * from table1\").printSchema()\n",
    "result = ss.sql(\"SELECT * from table1\")\n",
    "result.show()"
   ]
  },
  {
   "cell_type": "code",
   "execution_count": 72,
   "metadata": {},
   "outputs": [
    {
     "name": "stdout",
     "output_type": "stream",
     "text": [
      "+------+---+------------------+\n",
      "|gender|num|    average_salary|\n",
      "+------+---+------------------+\n",
      "|     F|  2|            1999.5|\n",
      "|     M|  3|3666.6666666666665|\n",
      "+------+---+------------------+\n",
      "\n"
     ]
    }
   ],
   "source": [
    "result = ss.sql(\"SELECT gender, count(*) as num,avg(salary) as average_salary from table1 group by gender\")\n",
    "result.show()"
   ]
  },
  {
   "cell_type": "markdown",
   "metadata": {},
   "source": [
    "## Simple Linear Regression with MLlib\n",
    "Pyspark is not only powerful for RDD and DataFrame. It also supports machine learning. MLlib is spark's core machine learning library. In the last part of this tutorial, I'll show you how to implement a linear regression in spark. The dataset used here comes from http://millionsongdataset.com/. We wanna predict the year of songs using given features. To be clear, this tutorial is aimed at going you through linear regression process instead of finding knewledge with machine learning. So I won't give interpretion of the regression result."
   ]
  },
  {
   "cell_type": "code",
   "execution_count": 5,
   "metadata": {},
   "outputs": [],
   "source": [
    "import numpy as np\n",
    "import pandas as pd\n",
    "import matplotlib.pyplot as plt\n",
    "from pyspark.mllib.regression import LabeledPoint"
   ]
  },
  {
   "cell_type": "code",
   "execution_count": 7,
   "metadata": {},
   "outputs": [
    {
     "name": "stdout",
     "output_type": "stream",
     "text": [
      "['2.00500000e+03,8.00890230e-01,6.56657992e-01,3.25012011e-01,3.88967777e-01,2.59227069e-01,3.51218956e-01,3.55794257e-01,3.50315260e-01,6.40341845e-01,5.62001594e-01,5.95646033e-01,4.98571737e-01', '1.97400000e+03,6.13489242e-01,6.41458028e-01,2.78497062e-01,3.36810765e-01,3.80977949e-01,3.37200764e-01,3.53774994e-01,4.24861111e-01,5.51306540e-01,4.45964685e-01,6.22590106e-01,6.09032474e-01', '1.98700000e+03,8.43599476e-01,6.17139860e-01,5.02508467e-01,4.38770294e-01,3.11464360e-01,3.81006120e-01,4.58850780e-01,4.43217844e-01,6.05648100e-01,4.45977090e-01,5.14609707e-01,4.28761963e-01', '2.00800000e+03,8.77323637e-01,6.72525879e-01,4.71228100e-01,4.33595141e-01,2.79012358e-01,3.51656386e-01,4.67118237e-01,4.72284730e-01,6.34704607e-01,6.01637231e-01,4.91206094e-01,4.04435583e-01', '1.97000000e+03,6.52183301e-01,6.55613002e-01,5.04868026e-01,5.10029804e-01,3.70969860e-01,6.92052424e-01,4.04965750e-01,2.42278423e-01,5.86823050e-01,2.77983946e-01,5.36907965e-01,6.03661483e-01']\n"
     ]
    }
   ],
   "source": [
    "data = sc.textFile('millionsong_bigdata.txt', 8)\n",
    "sample = data.take(5)\n",
    "print(sample)"
   ]
  },
  {
   "cell_type": "markdown",
   "metadata": {},
   "source": [
    "In supervised learning we have a target and other varibles. We want to use these variables to predict target. In MLlib, they are represented as LabeledPoint, which has labels and features."
   ]
  },
  {
   "cell_type": "code",
   "execution_count": 8,
   "metadata": {},
   "outputs": [],
   "source": [
    "# parse point from lines in the txt\n",
    "def parsePoint(line):\n",
    "    data = line.split(',')\n",
    "    lp = LabeledPoint(data[0],data[1:])\n",
    "    return lp"
   ]
  },
  {
   "cell_type": "code",
   "execution_count": 9,
   "metadata": {},
   "outputs": [
    {
     "data": {
      "text/plain": [
       "[LabeledPoint(2005.0, [0.80089023,0.656657992,0.325012011,0.388967777,0.259227069,0.351218956,0.355794257,0.35031526,0.640341845,0.562001594,0.595646033,0.498571737]),\n",
       " LabeledPoint(1974.0, [0.613489242,0.641458028,0.278497062,0.336810765,0.380977949,0.337200764,0.353774994,0.424861111,0.55130654,0.445964685,0.622590106,0.609032474]),\n",
       " LabeledPoint(1987.0, [0.843599476,0.61713986,0.502508467,0.438770294,0.31146436,0.38100612,0.45885078,0.443217844,0.6056481,0.44597709,0.514609707,0.428761963]),\n",
       " LabeledPoint(2008.0, [0.877323637,0.672525879,0.4712281,0.433595141,0.279012358,0.351656386,0.467118237,0.47228473,0.634704607,0.601637231,0.491206094,0.404435583]),\n",
       " LabeledPoint(1970.0, [0.652183301,0.655613002,0.504868026,0.510029804,0.37096986,0.692052424,0.40496575,0.242278423,0.58682305,0.277983946,0.536907965,0.603661483])]"
      ]
     },
     "execution_count": 9,
     "metadata": {},
     "output_type": "execute_result"
    }
   ],
   "source": [
    "parsedsample = [parsePoint(line) for line in sample]\n",
    "data = data.map(parsePoint)\n",
    "parsedsample"
   ]
  },
  {
   "cell_type": "markdown",
   "metadata": {},
   "source": [
    "Split dataset into trainset, testset and validtion set using randomSplit method."
   ]
  },
  {
   "cell_type": "code",
   "execution_count": 10,
   "metadata": {},
   "outputs": [
    {
     "data": {
      "text/plain": [
       "PythonRDD[7] at RDD at PythonRDD.scala:53"
      ]
     },
     "execution_count": 10,
     "metadata": {},
     "output_type": "execute_result"
    }
   ],
   "source": [
    "weights = [0.8, 0.1, 0.1]\n",
    "train, val, test = data.randomSplit(weights) #split\n",
    "#keep them in memory\n",
    "train.cache()\n",
    "val.cache()\n",
    "test.cache()"
   ]
  },
  {
   "cell_type": "markdown",
   "metadata": {},
   "source": [
    "In spark, the result of linear regression is solved by gradient descent in order to do distributed computation."
   ]
  },
  {
   "cell_type": "code",
   "execution_count": 13,
   "metadata": {},
   "outputs": [],
   "source": [
    "def linearegression(train, numIters):\n",
    "    # The length of the training data\n",
    "    n = train.count()\n",
    "    #number of features\n",
    "    d = len(train.take(1)[0].features)\n",
    "    #weights\n",
    "    w = np.zeros(d)\n",
    "    alpha = 1.0\n",
    "    errorTrain = np.zeros(numIters)\n",
    "    for i in range(numIters):\n",
    "\n",
    "        predict = train.map(lambda lp: (lp.label,w.dot(lp.features)))    #calculate predict value\n",
    "        errorTrain[i] = predict.map(lambda x: (x[0]-x[1])**2).mean() #calculate error\n",
    "        gradient = train.map(lambda lp:(w.dot(lp.features)-lp.label)*lp.features).sum() \n",
    "        alpha_i = alpha / (n * np.sqrt(i+1))\n",
    "        w -= alpha_i * gradient #update weights\n",
    "    return w, errorTrain"
   ]
  },
  {
   "cell_type": "code",
   "execution_count": 14,
   "metadata": {},
   "outputs": [
    {
     "name": "stdout",
     "output_type": "stream",
     "text": [
      "[374.33056033 326.17561601 307.50467262 277.90573441 238.86307305\n",
      " 316.3718115  328.68648962 356.67549995 407.66076807 334.08348835\n",
      " 378.80995488 343.82284079]\n"
     ]
    }
   ],
   "source": [
    "numIters = 50\n",
    "weights, error = linearegression(train, numIters)\n",
    "#predict trained results\n",
    "print (weights)"
   ]
  },
  {
   "cell_type": "code",
   "execution_count": 20,
   "metadata": {},
   "outputs": [
    {
     "data": {
      "image/png": "[encoded data removed]",
      "text/plain": [
       "<Figure size 432x288 with 1 Axes>"
      ]
     },
     "metadata": {
      "needs_background": "light"
     },
     "output_type": "display_data"
    }
   ],
   "source": [
    "import matplotlib.pyplot as plt\n",
    "import matplotlib.cm as cm\n",
    "\n",
    "#visulize log error\n",
    "plt.scatter(range(0, numIters), np.log(errorTrainLR0), s=14**2,  edgecolors='#888888', alpha=0.75)\n",
    "plt.xlabel(\"iterations\")\n",
    "plt.ylabel(\"log error\")\n",
    "plt.show()"
   ]
  },
  {
   "cell_type": "markdown",
   "metadata": {},
   "source": [
    "Actually MLlib has built in funtion to implement Linear regression with higher speed. We can see that this code gets the same result with our self-implemented code."
   ]
  },
  {
   "cell_type": "code",
   "execution_count": 25,
   "metadata": {},
   "outputs": [
    {
     "name": "stdout",
     "output_type": "stream",
     "text": [
      "[374.33056033371787,326.17561600868567,307.5046726216474,277.90573441077703,238.86307305304987,316.3718115014927,328.68648961942426,356.67549994893585,407.6607680697163,334.0834883450667,378.8099548803522,343.8228407879442]\n"
     ]
    }
   ],
   "source": [
    "from pyspark.mllib.regression import LinearRegressionWithSGD\n",
    "lr = LinearRegressionWithSGD.train(data = train, iterations = 50)\n",
    "print(lr.weights)"
   ]
  },
  {
   "cell_type": "markdown",
   "metadata": {},
   "source": [
    "Next let's use our trained model to predict on test data. The colormap is generated by the normalised train error."
   ]
  },
  {
   "cell_type": "code",
   "execution_count": 38,
   "metadata": {},
   "outputs": [
    {
     "data": {
      "image/png": "[encoded data removed]",
      "text/plain": [
       "<Figure size 432x288 with 1 Axes>"
      ]
     },
     "metadata": {
      "needs_background": "light"
     },
     "output_type": "display_data"
    }
   ],
   "source": [
    "from matplotlib.colors import ListedColormap, Normalize\n",
    "from matplotlib.cm import get_cmap\n",
    "cmap = get_cmap('YlOrRd')\n",
    "norm = Normalize()\n",
    "\n",
    "#get predict values,actual values and errors\n",
    "pre = np.asarray(test.map(lambda lp: lr.predict(lp.features)).collect())\n",
    "actual = np.asarray(test.map(lambda lp: lp.label).collect())\n",
    "error = np.asarray(test.map(lambda lp: ((lp.label - lr.predict(lp.features)))**2).collect())\n",
    "#set colormap\n",
    "clrs = cmap(np.asarray(norm(error)))[:,0:3]\n",
    "#plot\n",
    "plt.scatter(pre, actual, s=14**2, c = clrs,edgecolors='#888888', alpha=0.75, linewidths=.5)\n",
    "plt.xlabel(\"predict\")\n",
    "plt.ylabel(\"actual\")\n",
    "plt.show()"
   ]
  },
  {
   "cell_type": "markdown",
   "metadata": {},
   "source": [
    "## References\n",
    "\n",
    "This is just a 101 of pyspark. It can do more magical things. To learn more about pyspark, please visit the offical website. Thanks for reading. Hope you enjoy my tutorial.\n",
    "\n",
    "https://spark.apache.org/docs/latest/rdd-programming-guide.html\n",
    "\n",
    "https://spark.apache.org/docs/latest/api/python/pyspark.html"
   ]
  }
 ],
 "metadata": {
  "kernelspec": {
   "display_name": "Python 3",
   "language": "python",
   "name": "python3"
  },
  "language_info": {
   "codemirror_mode": {
    "name": "ipython",
    "version": 3
   },
   "file_extension": ".py",
   "mimetype": "text/x-python",
   "name": "python",
   "nbconvert_exporter": "python",
   "pygments_lexer": "ipython3",
   "version": "3.8.5"
  }
 },
 "nbformat": 4,
 "nbformat_minor": 2
}
